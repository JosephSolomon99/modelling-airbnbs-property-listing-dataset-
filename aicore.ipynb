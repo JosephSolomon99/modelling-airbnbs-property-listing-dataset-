{
 "cells": [
  {
   "cell_type": "code",
   "execution_count": 31,
   "metadata": {},
   "outputs": [],
   "source": [
    "import pandas as pd"
   ]
  },
  {
   "cell_type": "code",
   "execution_count": 32,
   "metadata": {},
   "outputs": [
    {
     "data": {
      "text/html": [
       "<div>\n",
       "<style scoped>\n",
       "    .dataframe tbody tr th:only-of-type {\n",
       "        vertical-align: middle;\n",
       "    }\n",
       "\n",
       "    .dataframe tbody tr th {\n",
       "        vertical-align: top;\n",
       "    }\n",
       "\n",
       "    .dataframe thead th {\n",
       "        text-align: right;\n",
       "    }\n",
       "</style>\n",
       "<table border=\"1\" class=\"dataframe\">\n",
       "  <thead>\n",
       "    <tr style=\"text-align: right;\">\n",
       "      <th></th>\n",
       "      <th>ID</th>\n",
       "      <th>Category</th>\n",
       "      <th>Title</th>\n",
       "      <th>Description</th>\n",
       "      <th>Amenities</th>\n",
       "      <th>Location</th>\n",
       "      <th>guests</th>\n",
       "      <th>beds</th>\n",
       "      <th>bathrooms</th>\n",
       "      <th>Price_Night</th>\n",
       "      <th>Cleanliness_rating</th>\n",
       "      <th>Accuracy_rating</th>\n",
       "      <th>Communication_rating</th>\n",
       "      <th>Location_rating</th>\n",
       "      <th>Check-in_rating</th>\n",
       "      <th>Value_rating</th>\n",
       "      <th>amenities_count</th>\n",
       "      <th>url</th>\n",
       "      <th>bedrooms</th>\n",
       "      <th>Unnamed: 19</th>\n",
       "    </tr>\n",
       "  </thead>\n",
       "  <tbody>\n",
       "    <tr>\n",
       "      <th>0</th>\n",
       "      <td>f9dcbd09-32ac-41d9-a0b1-fdb2793378cf</td>\n",
       "      <td>Treehouses</td>\n",
       "      <td>Red Kite Tree Tent - Ynys Affalon</td>\n",
       "      <td>['About this space', \"Escape to one of these t...</td>\n",
       "      <td>['What this place offers', 'Bathroom', 'Shampo...</td>\n",
       "      <td>Llandrindod Wells United Kingdom</td>\n",
       "      <td>2</td>\n",
       "      <td>1.0</td>\n",
       "      <td>1.0</td>\n",
       "      <td>105</td>\n",
       "      <td>4.6</td>\n",
       "      <td>4.7</td>\n",
       "      <td>4.3</td>\n",
       "      <td>5.0</td>\n",
       "      <td>4.3</td>\n",
       "      <td>4.3</td>\n",
       "      <td>13.0</td>\n",
       "      <td>https://www.airbnb.co.uk/rooms/26620994?adults...</td>\n",
       "      <td>NaN</td>\n",
       "      <td>NaN</td>\n",
       "    </tr>\n",
       "    <tr>\n",
       "      <th>1</th>\n",
       "      <td>1b4736a7-e73e-45bc-a9b5-d3e7fcf652fd</td>\n",
       "      <td>Treehouses</td>\n",
       "      <td>Az Alom Cabin - Treehouse Tree to Nature Cabin</td>\n",
       "      <td>['About this space', \"Come and spend a romanti...</td>\n",
       "      <td>['What this place offers', 'Bedroom and laundr...</td>\n",
       "      <td>Guyonvelle Grand Est France</td>\n",
       "      <td>3</td>\n",
       "      <td>3.0</td>\n",
       "      <td>0.0</td>\n",
       "      <td>92</td>\n",
       "      <td>4.3</td>\n",
       "      <td>4.7</td>\n",
       "      <td>4.6</td>\n",
       "      <td>4.9</td>\n",
       "      <td>4.7</td>\n",
       "      <td>4.5</td>\n",
       "      <td>8.0</td>\n",
       "      <td>https://www.airbnb.co.uk/rooms/27055498?adults...</td>\n",
       "      <td>1</td>\n",
       "      <td>NaN</td>\n",
       "    </tr>\n",
       "    <tr>\n",
       "      <th>2</th>\n",
       "      <td>d577bc30-2222-4bef-a35e-a9825642aec4</td>\n",
       "      <td>Treehouses</td>\n",
       "      <td>Cabane Entre Les Pins\\n🌲🏕️🌲</td>\n",
       "      <td>['About this space', 'Rustic cabin between the...</td>\n",
       "      <td>['What this place offers', 'Scenic views', 'Ga...</td>\n",
       "      <td>Duclair Normandie France</td>\n",
       "      <td>4</td>\n",
       "      <td>2.0</td>\n",
       "      <td>1.5</td>\n",
       "      <td>52</td>\n",
       "      <td>4.2</td>\n",
       "      <td>4.6</td>\n",
       "      <td>4.8</td>\n",
       "      <td>4.8</td>\n",
       "      <td>4.8</td>\n",
       "      <td>4.7</td>\n",
       "      <td>51.0</td>\n",
       "      <td>https://www.airbnb.co.uk/rooms/51427108?adults...</td>\n",
       "      <td>1</td>\n",
       "      <td>NaN</td>\n",
       "    </tr>\n",
       "    <tr>\n",
       "      <th>3</th>\n",
       "      <td>ca9cbfd4-7798-4e8d-8c17-d5a64fba0abc</td>\n",
       "      <td>Treehouses</td>\n",
       "      <td>Tree Top Cabin with log burner &amp; private hot tub</td>\n",
       "      <td>['About this space', 'The Tree top cabin is si...</td>\n",
       "      <td>['What this place offers', 'Bathroom', 'Hot wa...</td>\n",
       "      <td>Barmouth Wales United Kingdom</td>\n",
       "      <td>2</td>\n",
       "      <td>NaN</td>\n",
       "      <td>1.0</td>\n",
       "      <td>132</td>\n",
       "      <td>4.8</td>\n",
       "      <td>4.9</td>\n",
       "      <td>4.9</td>\n",
       "      <td>4.9</td>\n",
       "      <td>5.0</td>\n",
       "      <td>4.6</td>\n",
       "      <td>23.0</td>\n",
       "      <td>https://www.airbnb.co.uk/rooms/49543851?adults...</td>\n",
       "      <td>NaN</td>\n",
       "      <td>NaN</td>\n",
       "    </tr>\n",
       "    <tr>\n",
       "      <th>4</th>\n",
       "      <td>8b2d0f78-16d8-4559-8692-62ebce2a1302</td>\n",
       "      <td>Treehouses</td>\n",
       "      <td>Hanging cabin</td>\n",
       "      <td>['About this space', 'Feel refreshed at this u...</td>\n",
       "      <td>['What this place offers', 'Heating and coolin...</td>\n",
       "      <td>Wargnies-le-Petit Hauts-de-France France</td>\n",
       "      <td>2</td>\n",
       "      <td>1.0</td>\n",
       "      <td>NaN</td>\n",
       "      <td>111</td>\n",
       "      <td>NaN</td>\n",
       "      <td>NaN</td>\n",
       "      <td>NaN</td>\n",
       "      <td>NaN</td>\n",
       "      <td>NaN</td>\n",
       "      <td>NaN</td>\n",
       "      <td>5.0</td>\n",
       "      <td>https://www.airbnb.co.uk/rooms/50166553?adults...</td>\n",
       "      <td>1</td>\n",
       "      <td>NaN</td>\n",
       "    </tr>\n",
       "  </tbody>\n",
       "</table>\n",
       "</div>"
      ],
      "text/plain": [
       "                                     ID    Category  \\\n",
       "0  f9dcbd09-32ac-41d9-a0b1-fdb2793378cf  Treehouses   \n",
       "1  1b4736a7-e73e-45bc-a9b5-d3e7fcf652fd  Treehouses   \n",
       "2  d577bc30-2222-4bef-a35e-a9825642aec4  Treehouses   \n",
       "3  ca9cbfd4-7798-4e8d-8c17-d5a64fba0abc  Treehouses   \n",
       "4  8b2d0f78-16d8-4559-8692-62ebce2a1302  Treehouses   \n",
       "\n",
       "                                              Title  \\\n",
       "0                 Red Kite Tree Tent - Ynys Affalon   \n",
       "1    Az Alom Cabin - Treehouse Tree to Nature Cabin   \n",
       "2                       Cabane Entre Les Pins\\n🌲🏕️🌲   \n",
       "3  Tree Top Cabin with log burner & private hot tub   \n",
       "4                                     Hanging cabin   \n",
       "\n",
       "                                         Description  \\\n",
       "0  ['About this space', \"Escape to one of these t...   \n",
       "1  ['About this space', \"Come and spend a romanti...   \n",
       "2  ['About this space', 'Rustic cabin between the...   \n",
       "3  ['About this space', 'The Tree top cabin is si...   \n",
       "4  ['About this space', 'Feel refreshed at this u...   \n",
       "\n",
       "                                           Amenities  \\\n",
       "0  ['What this place offers', 'Bathroom', 'Shampo...   \n",
       "1  ['What this place offers', 'Bedroom and laundr...   \n",
       "2  ['What this place offers', 'Scenic views', 'Ga...   \n",
       "3  ['What this place offers', 'Bathroom', 'Hot wa...   \n",
       "4  ['What this place offers', 'Heating and coolin...   \n",
       "\n",
       "                                   Location guests  beds  bathrooms  \\\n",
       "0          Llandrindod Wells United Kingdom      2   1.0        1.0   \n",
       "1               Guyonvelle Grand Est France      3   3.0        0.0   \n",
       "2                  Duclair Normandie France      4   2.0        1.5   \n",
       "3             Barmouth Wales United Kingdom      2   NaN        1.0   \n",
       "4  Wargnies-le-Petit Hauts-de-France France      2   1.0        NaN   \n",
       "\n",
       "   Price_Night  Cleanliness_rating  Accuracy_rating  Communication_rating  \\\n",
       "0          105                 4.6              4.7                   4.3   \n",
       "1           92                 4.3              4.7                   4.6   \n",
       "2           52                 4.2              4.6                   4.8   \n",
       "3          132                 4.8              4.9                   4.9   \n",
       "4          111                 NaN              NaN                   NaN   \n",
       "\n",
       "   Location_rating  Check-in_rating  Value_rating  amenities_count  \\\n",
       "0              5.0              4.3           4.3             13.0   \n",
       "1              4.9              4.7           4.5              8.0   \n",
       "2              4.8              4.8           4.7             51.0   \n",
       "3              4.9              5.0           4.6             23.0   \n",
       "4              NaN              NaN           NaN              5.0   \n",
       "\n",
       "                                                 url bedrooms  Unnamed: 19  \n",
       "0  https://www.airbnb.co.uk/rooms/26620994?adults...      NaN          NaN  \n",
       "1  https://www.airbnb.co.uk/rooms/27055498?adults...        1          NaN  \n",
       "2  https://www.airbnb.co.uk/rooms/51427108?adults...        1          NaN  \n",
       "3  https://www.airbnb.co.uk/rooms/49543851?adults...      NaN          NaN  \n",
       "4  https://www.airbnb.co.uk/rooms/50166553?adults...        1          NaN  "
      ]
     },
     "execution_count": 32,
     "metadata": {},
     "output_type": "execute_result"
    }
   ],
   "source": [
    "listings = pd.read_csv(r'airbnb-property-listings/listing.csv')\n",
    "listings.head()"
   ]
  },
  {
   "cell_type": "code",
   "execution_count": 229,
   "metadata": {},
   "outputs": [],
   "source": [
    "listings['Description'] = listings.Description.str.split(\",\")"
   ]
  },
  {
   "cell_type": "code",
   "execution_count": 76,
   "metadata": {},
   "outputs": [
    {
     "ename": "AttributeError",
     "evalue": "'Series' object has no attribute 'split'",
     "output_type": "error",
     "traceback": [
      "\u001b[0;31m---------------------------------------------------------------------------\u001b[0m",
      "\u001b[0;31mAttributeError\u001b[0m                            Traceback (most recent call last)",
      "\u001b[1;32m/Users/joseph/Airbnb/Airbnb_Property/aicore.ipynb Cell 3\u001b[0m in \u001b[0;36m<cell line: 1>\u001b[0;34m()\u001b[0m\n\u001b[0;32m----> <a href='vscode-notebook-cell:/Users/joseph/Airbnb/Airbnb_Property/aicore.ipynb#X32sZmlsZQ%3D%3D?line=0'>1</a>\u001b[0m listings[\u001b[39m'\u001b[39m\u001b[39mDescription\u001b[39m\u001b[39m'\u001b[39m]\u001b[39m.\u001b[39msplit(\u001b[39m'\u001b[39m\u001b[39m,\u001b[39m\u001b[39m'\u001b[39m)\n",
      "File \u001b[0;32m/Library/Frameworks/Python.framework/Versions/3.10/lib/python3.10/site-packages/pandas/core/generic.py:5583\u001b[0m, in \u001b[0;36mNDFrame.__getattr__\u001b[0;34m(self, name)\u001b[0m\n\u001b[1;32m   5576\u001b[0m \u001b[39mif\u001b[39;00m (\n\u001b[1;32m   5577\u001b[0m     name \u001b[39mnot\u001b[39;00m \u001b[39min\u001b[39;00m \u001b[39mself\u001b[39m\u001b[39m.\u001b[39m_internal_names_set\n\u001b[1;32m   5578\u001b[0m     \u001b[39mand\u001b[39;00m name \u001b[39mnot\u001b[39;00m \u001b[39min\u001b[39;00m \u001b[39mself\u001b[39m\u001b[39m.\u001b[39m_metadata\n\u001b[1;32m   5579\u001b[0m     \u001b[39mand\u001b[39;00m name \u001b[39mnot\u001b[39;00m \u001b[39min\u001b[39;00m \u001b[39mself\u001b[39m\u001b[39m.\u001b[39m_accessors\n\u001b[1;32m   5580\u001b[0m     \u001b[39mand\u001b[39;00m \u001b[39mself\u001b[39m\u001b[39m.\u001b[39m_info_axis\u001b[39m.\u001b[39m_can_hold_identifiers_and_holds_name(name)\n\u001b[1;32m   5581\u001b[0m ):\n\u001b[1;32m   5582\u001b[0m     \u001b[39mreturn\u001b[39;00m \u001b[39mself\u001b[39m[name]\n\u001b[0;32m-> 5583\u001b[0m \u001b[39mreturn\u001b[39;00m \u001b[39mobject\u001b[39;49m\u001b[39m.\u001b[39;49m\u001b[39m__getattribute__\u001b[39;49m(\u001b[39mself\u001b[39;49m, name)\n",
      "\u001b[0;31mAttributeError\u001b[0m: 'Series' object has no attribute 'split'"
     ]
    }
   ],
   "source": [
    "txt.split(\",\")"
   ]
  },
  {
   "cell_type": "code",
   "execution_count": null,
   "metadata": {},
   "outputs": [],
   "source": [
    "str_1 = \"Hire the top 1% freelance developers\"\n",
    "list_1 = str_1.split()\n",
    "print(list_1)"
   ]
  },
  {
   "cell_type": "code",
   "execution_count": 227,
   "metadata": {},
   "outputs": [
    {
     "name": "stdout",
     "output_type": "stream",
     "text": [
      "['[hello', ' my name is Peter', ' I am 26 years old]']\n"
     ]
    }
   ],
   "source": [
    "txt = \"[hello, my name is Peter, I am 26 years old]\"\n",
    "\n",
    "x = txt.split(\",\")\n",
    "\n",
    "print(x)"
   ]
  },
  {
   "cell_type": "code",
   "execution_count": 35,
   "metadata": {},
   "outputs": [
    {
     "name": "stdout",
     "output_type": "stream",
     "text": [
      "<class 'pandas.core.frame.DataFrame'>\n",
      "RangeIndex: 988 entries, 0 to 987\n",
      "Data columns (total 20 columns):\n",
      " #   Column                Non-Null Count  Dtype  \n",
      "---  ------                --------------  -----  \n",
      " 0   ID                    988 non-null    object \n",
      " 1   Category              988 non-null    object \n",
      " 2   Title                 988 non-null    object \n",
      " 3   Description           900 non-null    object \n",
      " 4   Amenities             988 non-null    object \n",
      " 5   Location              988 non-null    object \n",
      " 6   guests                988 non-null    object \n",
      " 7   beds                  988 non-null    float64\n",
      " 8   bathrooms             988 non-null    float64\n",
      " 9   Price_Night           988 non-null    int64  \n",
      " 10  Cleanliness_rating    890 non-null    float64\n",
      " 11  Accuracy_rating       890 non-null    float64\n",
      " 12  Communication_rating  890 non-null    float64\n",
      " 13  Location_rating       890 non-null    float64\n",
      " 14  Check-in_rating       890 non-null    float64\n",
      " 15  Value_rating          890 non-null    float64\n",
      " 16  amenities_count       988 non-null    float64\n",
      " 17  url                   988 non-null    object \n",
      " 18  bedrooms              988 non-null    object \n",
      " 19  Unnamed: 19           1 non-null      float64\n",
      "dtypes: float64(10), int64(1), object(9)\n",
      "memory usage: 154.5+ KB\n"
     ]
    }
   ],
   "source": [
    "listings.info()"
   ]
  },
  {
   "cell_type": "code",
   "execution_count": 15,
   "metadata": {},
   "outputs": [
    {
     "name": "stderr",
     "output_type": "stream",
     "text": [
      "/var/folders/m1/sxr9m1ws7p9dlh9_cxz2dyfh0000gn/T/ipykernel_57881/95660669.py:1: SettingWithCopyWarning: \n",
      "A value is trying to be set on a copy of a slice from a DataFrame\n",
      "\n",
      "See the caveats in the documentation: https://pandas.pydata.org/pandas-docs/stable/user_guide/indexing.html#returning-a-view-versus-a-copy\n",
      "  listings[['guests','beds','bathrooms','bedrooms']].fillna(value=1,inplace=True)\n"
     ]
    }
   ],
   "source": [
    "listings[['guests','beds','bathrooms','bedrooms']].fillna(value=1,inplace=True)"
   ]
  },
  {
   "cell_type": "code",
   "execution_count": 20,
   "metadata": {},
   "outputs": [],
   "source": [
    "columns = ['guests','beds','bathrooms','bedrooms']\n",
    "for column in columns:\n",
    "    listings[column].fillna(value=1, inplace=True)"
   ]
  },
  {
   "cell_type": "code",
   "execution_count": 28,
   "metadata": {},
   "outputs": [
    {
     "data": {
      "text/plain": [
       "[None, None, None, None]"
      ]
     },
     "execution_count": 28,
     "metadata": {},
     "output_type": "execute_result"
    }
   ],
   "source": [
    "columns = ['guests','beds','bathrooms','bedrooms']\n",
    "[listings[column].fillna(value=1, inplace=True) for column in columns]"
   ]
  },
  {
   "cell_type": "code",
   "execution_count": 34,
   "metadata": {},
   "outputs": [
    {
     "data": {
      "text/plain": [
       "[None, None, None, None]"
      ]
     },
     "execution_count": 34,
     "metadata": {},
     "output_type": "execute_result"
    }
   ],
   "source": [
    "columns = ['guests','beds','bathrooms','bedrooms']\n",
    "[listings[column].fillna(value=1, inplace=True) for column in columns]"
   ]
  },
  {
   "cell_type": "code",
   "execution_count": 6,
   "metadata": {},
   "outputs": [
    {
     "data": {
      "text/plain": [
       "2"
      ]
     },
     "execution_count": 6,
     "metadata": {},
     "output_type": "execute_result"
    }
   ],
   "source": [
    "listings.iloc[2,3]"
   ]
  },
  {
   "cell_type": "code",
   "execution_count": 220,
   "metadata": {},
   "outputs": [
    {
     "name": "stderr",
     "output_type": "stream",
     "text": [
      "/var/folders/m1/sxr9m1ws7p9dlh9_cxz2dyfh0000gn/T/ipykernel_46757/815520936.py:6: FutureWarning: The default value of regex will change from True to False in a future version. In addition, single character regular expressions will *not* be treated as literal strings when regex=True.\n",
      "  listings['Description'] = listings['Description'].str.replace(char, ' ')\n",
      "/var/folders/m1/sxr9m1ws7p9dlh9_cxz2dyfh0000gn/T/ipykernel_46757/815520936.py:6: FutureWarning: The default value of regex will change from True to False in a future version.\n",
      "  listings['Description'] = listings['Description'].str.replace(char, ' ')\n"
     ]
    }
   ],
   "source": [
    "spec_chars = [\"!\",'\"',\"#\",\"%\",\"&\",\"'\",\n",
    "              \"*\",\"+\",\",\",\"-\",\".\",\"/\",\":\",\";\",\"<\",\"\\\\n\"\n",
    "              \"=\",\">\",\"?\",\"@\",\"[\",\"]\",\"^\",\"_\",\n",
    "              \"`\",\"{\",\"|\",\"}\",\"~\",\"–\",\"]\",\"[\",\"About this space\"]\n",
    "for char in spec_chars:\n",
    "    listings['Description'] = listings['Description'].str.replace(char, ' ')"
   ]
  },
  {
   "cell_type": "code",
   "execution_count": 186,
   "metadata": {},
   "outputs": [],
   "source": [
    "listings['Description'] = listings['Description'].str.split().str.join(\" \")"
   ]
  },
  {
   "cell_type": "code",
   "execution_count": 192,
   "metadata": {},
   "outputs": [],
   "source": [
    "import re\n",
    "def remove_emoji(string):\n",
    "    emoji_pattern = re.compile(\"[\"\n",
    "                           u\"\\U0001F600-\\U0001F64F\"  # emoticons\n",
    "                           u\"\\U0001F300-\\U0001F5FF\"  # symbols & pictographs\n",
    "                           u\"\\U0001F680-\\U0001F6FF\"  # transport & map symbols\n",
    "                           u\"\\U0001F1E0-\\U0001F1FF\"  # flags (iOS)\n",
    "                           u\"\\U00002702-\\U000027B0\"\n",
    "                           u\"\\U000024C2-\\U0001F251\"\n",
    "                           \"]+\", flags=re.UNICODE)\n",
    "    return emoji_pattern.sub(r'', string)"
   ]
  },
  {
   "cell_type": "code",
   "execution_count": 125,
   "metadata": {},
   "outputs": [
    {
     "ename": "AttributeError",
     "evalue": "'StringMethods' object has no attribute 'remove_emoji'",
     "output_type": "error",
     "traceback": [
      "\u001b[0;31m---------------------------------------------------------------------------\u001b[0m",
      "\u001b[0;31mAttributeError\u001b[0m                            Traceback (most recent call last)",
      "\u001b[1;32m/Users/joseph/Airbnb/Airbnb_Property/aicore.ipynb Cell 11\u001b[0m in \u001b[0;36m<cell line: 1>\u001b[0;34m()\u001b[0m\n\u001b[0;32m----> <a href='vscode-notebook-cell:/Users/joseph/Airbnb/Airbnb_Property/aicore.ipynb#X51sZmlsZQ%3D%3D?line=0'>1</a>\u001b[0m listings[\u001b[39m'\u001b[39m\u001b[39mDescription\u001b[39m\u001b[39m'\u001b[39m] \u001b[39m=\u001b[39m listings[\u001b[39m'\u001b[39m\u001b[39mDescription\u001b[39m\u001b[39m'\u001b[39m]\u001b[39m.\u001b[39mstr\u001b[39m.\u001b[39mremove_emoji()\n",
      "\u001b[0;31mAttributeError\u001b[0m: 'StringMethods' object has no attribute 'remove_emoji'"
     ]
    }
   ],
   "source": [
    "listings['Description'] = listings['Description'].str.remove_emoji()"
   ]
  },
  {
   "cell_type": "code",
   "execution_count": 123,
   "metadata": {},
   "outputs": [
    {
     "ename": "AttributeError",
     "evalue": "'StringMethods' object has no attribute 'apply'",
     "output_type": "error",
     "traceback": [
      "\u001b[0;31m---------------------------------------------------------------------------\u001b[0m",
      "\u001b[0;31mAttributeError\u001b[0m                            Traceback (most recent call last)",
      "\u001b[1;32m/Users/joseph/Airbnb/Airbnb_Property/aicore.ipynb Cell 11\u001b[0m in \u001b[0;36m<cell line: 1>\u001b[0;34m()\u001b[0m\n\u001b[0;32m----> <a href='vscode-notebook-cell:/Users/joseph/Airbnb/Airbnb_Property/aicore.ipynb#X42sZmlsZQ%3D%3D?line=0'>1</a>\u001b[0m listings[\u001b[39m'\u001b[39m\u001b[39mDescription\u001b[39m\u001b[39m'\u001b[39m]\u001b[39m.\u001b[39mstr\u001b[39m.\u001b[39mapply(remove_emoji)\n",
      "\u001b[0;31mAttributeError\u001b[0m: 'StringMethods' object has no attribute 'apply'"
     ]
    }
   ],
   "source": [
    "listings['Description'].str.apply(remove_emoji)"
   ]
  },
  {
   "cell_type": "code",
   "execution_count": 110,
   "metadata": {},
   "outputs": [
    {
     "name": "stderr",
     "output_type": "stream",
     "text": [
      "/var/folders/m1/sxr9m1ws7p9dlh9_cxz2dyfh0000gn/T/ipykernel_46757/3120185779.py:1: FutureWarning: The default value of regex will change from True to False in a future version.\n",
      "  listings['Description'] = listings['Description'].str.replace('[^A-Za-z0-9]', '', flags=re.UNICODE)\n"
     ]
    }
   ],
   "source": [
    "listings['Description'] = listings['Description'].str.replace('[^A-Za-z0-9]', '', flags=re.UNICODE)"
   ]
  },
  {
   "cell_type": "code",
   "execution_count": 106,
   "metadata": {},
   "outputs": [
    {
     "ename": "AttributeError",
     "evalue": "'str' object has no attribute 'str'",
     "output_type": "error",
     "traceback": [
      "\u001b[0;31m---------------------------------------------------------------------------\u001b[0m",
      "\u001b[0;31mAttributeError\u001b[0m                            Traceback (most recent call last)",
      "\u001b[1;32m/Users/joseph/Airbnb/Airbnb_Property/aicore.ipynb Cell 11\u001b[0m in \u001b[0;36m<cell line: 1>\u001b[0;34m()\u001b[0m\n\u001b[0;32m----> <a href='vscode-notebook-cell:/Users/joseph/Airbnb/Airbnb_Property/aicore.ipynb#X43sZmlsZQ%3D%3D?line=0'>1</a>\u001b[0m listings[\u001b[39m'\u001b[39m\u001b[39mDescription\u001b[39m\u001b[39m'\u001b[39m]\u001b[39m.\u001b[39mastype(\u001b[39mstr\u001b[39m)\u001b[39m.\u001b[39mapply(\u001b[39mlambda\u001b[39;00m x: x\u001b[39m.\u001b[39mstr\u001b[39m.\u001b[39mencode(\u001b[39m'\u001b[39m\u001b[39mascii\u001b[39m\u001b[39m'\u001b[39m, \u001b[39m'\u001b[39m\u001b[39mignore\u001b[39m\u001b[39m'\u001b[39m)\u001b[39m.\u001b[39mstr\u001b[39m.\u001b[39mdecode(\u001b[39m'\u001b[39m\u001b[39mascii\u001b[39m\u001b[39m'\u001b[39m))\n",
      "File \u001b[0;32m/Library/Frameworks/Python.framework/Versions/3.10/lib/python3.10/site-packages/pandas/core/series.py:4433\u001b[0m, in \u001b[0;36mSeries.apply\u001b[0;34m(self, func, convert_dtype, args, **kwargs)\u001b[0m\n\u001b[1;32m   4323\u001b[0m \u001b[39mdef\u001b[39;00m \u001b[39mapply\u001b[39m(\n\u001b[1;32m   4324\u001b[0m     \u001b[39mself\u001b[39m,\n\u001b[1;32m   4325\u001b[0m     func: AggFuncType,\n\u001b[0;32m   (...)\u001b[0m\n\u001b[1;32m   4328\u001b[0m     \u001b[39m*\u001b[39m\u001b[39m*\u001b[39mkwargs,\n\u001b[1;32m   4329\u001b[0m ) \u001b[39m-\u001b[39m\u001b[39m>\u001b[39m DataFrame \u001b[39m|\u001b[39m Series:\n\u001b[1;32m   4330\u001b[0m     \u001b[39m\"\"\"\u001b[39;00m\n\u001b[1;32m   4331\u001b[0m \u001b[39m    Invoke function on values of Series.\u001b[39;00m\n\u001b[1;32m   4332\u001b[0m \n\u001b[0;32m   (...)\u001b[0m\n\u001b[1;32m   4431\u001b[0m \u001b[39m    dtype: float64\u001b[39;00m\n\u001b[1;32m   4432\u001b[0m \u001b[39m    \"\"\"\u001b[39;00m\n\u001b[0;32m-> 4433\u001b[0m     \u001b[39mreturn\u001b[39;00m SeriesApply(\u001b[39mself\u001b[39;49m, func, convert_dtype, args, kwargs)\u001b[39m.\u001b[39;49mapply()\n",
      "File \u001b[0;32m/Library/Frameworks/Python.framework/Versions/3.10/lib/python3.10/site-packages/pandas/core/apply.py:1082\u001b[0m, in \u001b[0;36mSeriesApply.apply\u001b[0;34m(self)\u001b[0m\n\u001b[1;32m   1078\u001b[0m \u001b[39mif\u001b[39;00m \u001b[39misinstance\u001b[39m(\u001b[39mself\u001b[39m\u001b[39m.\u001b[39mf, \u001b[39mstr\u001b[39m):\n\u001b[1;32m   1079\u001b[0m     \u001b[39m# if we are a string, try to dispatch\u001b[39;00m\n\u001b[1;32m   1080\u001b[0m     \u001b[39mreturn\u001b[39;00m \u001b[39mself\u001b[39m\u001b[39m.\u001b[39mapply_str()\n\u001b[0;32m-> 1082\u001b[0m \u001b[39mreturn\u001b[39;00m \u001b[39mself\u001b[39;49m\u001b[39m.\u001b[39;49mapply_standard()\n",
      "File \u001b[0;32m/Library/Frameworks/Python.framework/Versions/3.10/lib/python3.10/site-packages/pandas/core/apply.py:1137\u001b[0m, in \u001b[0;36mSeriesApply.apply_standard\u001b[0;34m(self)\u001b[0m\n\u001b[1;32m   1131\u001b[0m         values \u001b[39m=\u001b[39m obj\u001b[39m.\u001b[39mastype(\u001b[39mobject\u001b[39m)\u001b[39m.\u001b[39m_values\n\u001b[1;32m   1132\u001b[0m         \u001b[39m# error: Argument 2 to \"map_infer\" has incompatible type\u001b[39;00m\n\u001b[1;32m   1133\u001b[0m         \u001b[39m# \"Union[Callable[..., Any], str, List[Union[Callable[..., Any], str]],\u001b[39;00m\n\u001b[1;32m   1134\u001b[0m         \u001b[39m# Dict[Hashable, Union[Union[Callable[..., Any], str],\u001b[39;00m\n\u001b[1;32m   1135\u001b[0m         \u001b[39m# List[Union[Callable[..., Any], str]]]]]\"; expected\u001b[39;00m\n\u001b[1;32m   1136\u001b[0m         \u001b[39m# \"Callable[[Any], Any]\"\u001b[39;00m\n\u001b[0;32m-> 1137\u001b[0m         mapped \u001b[39m=\u001b[39m lib\u001b[39m.\u001b[39;49mmap_infer(\n\u001b[1;32m   1138\u001b[0m             values,\n\u001b[1;32m   1139\u001b[0m             f,  \u001b[39m# type: ignore[arg-type]\u001b[39;49;00m\n\u001b[1;32m   1140\u001b[0m             convert\u001b[39m=\u001b[39;49m\u001b[39mself\u001b[39;49m\u001b[39m.\u001b[39;49mconvert_dtype,\n\u001b[1;32m   1141\u001b[0m         )\n\u001b[1;32m   1143\u001b[0m \u001b[39mif\u001b[39;00m \u001b[39mlen\u001b[39m(mapped) \u001b[39mand\u001b[39;00m \u001b[39misinstance\u001b[39m(mapped[\u001b[39m0\u001b[39m], ABCSeries):\n\u001b[1;32m   1144\u001b[0m     \u001b[39m# GH#43986 Need to do list(mapped) in order to get treated as nested\u001b[39;00m\n\u001b[1;32m   1145\u001b[0m     \u001b[39m#  See also GH#25959 regarding EA support\u001b[39;00m\n\u001b[1;32m   1146\u001b[0m     \u001b[39mreturn\u001b[39;00m obj\u001b[39m.\u001b[39m_constructor_expanddim(\u001b[39mlist\u001b[39m(mapped), index\u001b[39m=\u001b[39mobj\u001b[39m.\u001b[39mindex)\n",
      "File \u001b[0;32m/Library/Frameworks/Python.framework/Versions/3.10/lib/python3.10/site-packages/pandas/_libs/lib.pyx:2870\u001b[0m, in \u001b[0;36mpandas._libs.lib.map_infer\u001b[0;34m()\u001b[0m\n",
      "\u001b[1;32m/Users/joseph/Airbnb/Airbnb_Property/aicore.ipynb Cell 11\u001b[0m in \u001b[0;36m<lambda>\u001b[0;34m(x)\u001b[0m\n\u001b[0;32m----> <a href='vscode-notebook-cell:/Users/joseph/Airbnb/Airbnb_Property/aicore.ipynb#X43sZmlsZQ%3D%3D?line=0'>1</a>\u001b[0m listings[\u001b[39m'\u001b[39m\u001b[39mDescription\u001b[39m\u001b[39m'\u001b[39m]\u001b[39m.\u001b[39mastype(\u001b[39mstr\u001b[39m)\u001b[39m.\u001b[39mapply(\u001b[39mlambda\u001b[39;00m x: x\u001b[39m.\u001b[39;49mstr\u001b[39m.\u001b[39mencode(\u001b[39m'\u001b[39m\u001b[39mascii\u001b[39m\u001b[39m'\u001b[39m, \u001b[39m'\u001b[39m\u001b[39mignore\u001b[39m\u001b[39m'\u001b[39m)\u001b[39m.\u001b[39mstr\u001b[39m.\u001b[39mdecode(\u001b[39m'\u001b[39m\u001b[39mascii\u001b[39m\u001b[39m'\u001b[39m))\n",
      "\u001b[0;31mAttributeError\u001b[0m: 'str' object has no attribute 'str'"
     ]
    }
   ],
   "source": [
    "listings['Description'].astype(str).apply(lambda x: x.str.encode('ascii', 'ignore').str.decode('ascii'))"
   ]
  },
  {
   "cell_type": "code",
   "execution_count": 111,
   "metadata": {},
   "outputs": [
    {
     "data": {
      "text/plain": [
       "'AboutthisspaceRusticcabinbetweenthepines3metershighand28squaremetersonthebanksoftheAustreberthRiverThespaceThespacenOurcabinbetweenthepinesisagreatalternativeforthoselookingforcontactwithnatureandwanttorestenjoytogetherorhavefunwithfamilyorfriendsWith3metershighand28squaremetersitaccommodates4peopleLocatedona12hectarepropertybytheriverAustrebertheourrustictreehousesharesthespacewithourgardenrabbitsanddumplingsaswellaswilddumplingsandourbelovedkhentymarewholovesapplesandcarrotsAtranquilretreatwithefficientthermalinsulationandheatersforthecolderdaysEquippedwithadoublebedsofabedkitchenduvetandtoiletnnnWeprovidenTowelsnBedlinensandpillowsnKitchendetergentandbathroomsoapnPapertowelstoiletpapernCookingutensilsnCoffeeteasaltandpepperherbsofprovencenWhattodointheareasguidennIllfollowusonInstagramentreespinsGuestaccessGuestaccessnGuestscanusethespacearoundthecabinOtherthingstonoteOtherthingstonotenWhenitswindythecabinsqueaksbuttheresnothingtoworryaboutnnDonotusecandlesorobjectscontainingafireinsideandoutsidethecabinasthepolyesterisflammablennSmokingoutsideonlypleasennOurdearpetsareallowedbutwiththecommitmentoftheirguardiannottoleavethemonthebedandfurnishingfabricsaswellasbeingresponsiblefortheirwastennPineneedlesoftenfallonthebalconywhichdoesntmeanthespacehasntbeencleanednnAsthisisliterallyahousebetweenthetreesitiscommonthatthereareinsectsandcobwebsoutsidebutwiththedoorcloseditwillpreventthemfromenteringthecabinnnWiththearrivalofthecoldseasonweseethattheinternaltemperatureisbetween15and18degreesnnCheckouttimemustberespectedsoasnottochangethearrivaltimeofthenextguest'"
      ]
     },
     "execution_count": 111,
     "metadata": {},
     "output_type": "execute_result"
    }
   ],
   "source": [
    "listings.iloc[2,3]"
   ]
  },
  {
   "cell_type": "code",
   "execution_count": 93,
   "metadata": {},
   "outputs": [],
   "source": []
  },
  {
   "cell_type": "code",
   "execution_count": 20,
   "metadata": {},
   "outputs": [
    {
     "data": {
      "text/plain": [
       "ID                        0\n",
       "Category                  0\n",
       "Title                     0\n",
       "Description              88\n",
       "Amenities                 0\n",
       "Location                  0\n",
       "guests                   19\n",
       "beds                     43\n",
       "bathrooms               100\n",
       "Price_Night               0\n",
       "Cleanliness_rating       98\n",
       "Accuracy_rating          98\n",
       "Communication_rating     98\n",
       "Location_rating          98\n",
       "Check-in_rating          98\n",
       "Value_rating             98\n",
       "amenities_count           0\n",
       "url                       0\n",
       "bedrooms                 82\n",
       "Unnamed: 19             987\n",
       "dtype: int64"
      ]
     },
     "execution_count": 20,
     "metadata": {},
     "output_type": "execute_result"
    }
   ],
   "source": [
    "listings.isnull().sum()"
   ]
  },
  {
   "cell_type": "code",
   "execution_count": 60,
   "metadata": {},
   "outputs": [
    {
     "name": "stdout",
     "output_type": "stream",
     "text": [
      "<class 'pandas.core.frame.DataFrame'>\n",
      "RangeIndex: 988 entries, 0 to 987\n",
      "Data columns (total 20 columns):\n",
      " #   Column                Non-Null Count  Dtype  \n",
      "---  ------                --------------  -----  \n",
      " 0   ID                    988 non-null    object \n",
      " 1   Category              988 non-null    object \n",
      " 2   Title                 988 non-null    object \n",
      " 3   Description           900 non-null    object \n",
      " 4   Amenities             988 non-null    object \n",
      " 5   Location              988 non-null    object \n",
      " 6   guests                969 non-null    object \n",
      " 7   beds                  945 non-null    float64\n",
      " 8   bathrooms             888 non-null    float64\n",
      " 9   Price_Night           988 non-null    int64  \n",
      " 10  Cleanliness_rating    890 non-null    float64\n",
      " 11  Accuracy_rating       890 non-null    float64\n",
      " 12  Communication_rating  890 non-null    float64\n",
      " 13  Location_rating       890 non-null    float64\n",
      " 14  Check-in_rating       890 non-null    float64\n",
      " 15  Value_rating          890 non-null    float64\n",
      " 16  amenities_count       988 non-null    float64\n",
      " 17  url                   988 non-null    object \n",
      " 18  bedrooms              906 non-null    object \n",
      " 19  Unnamed: 19           1 non-null      float64\n",
      "dtypes: float64(10), int64(1), object(9)\n",
      "memory usage: 154.5+ KB\n"
     ]
    }
   ],
   "source": [
    "filepath = r'airbnb-property-listings/tabular_data/listing.csv'\n",
    "def read_dataset():\n",
    "    listings = pd.read_csv(filepath)\n",
    "    return listings\n",
    "\n",
    "listings = read_dataset()\n",
    "listings.info()"
   ]
  },
  {
   "cell_type": "code",
   "execution_count": 61,
   "metadata": {},
   "outputs": [
    {
     "data": {
      "text/plain": [
       "ID                        0\n",
       "Category                  0\n",
       "Title                     0\n",
       "Description              88\n",
       "Amenities                 0\n",
       "Location                  0\n",
       "guests                   19\n",
       "beds                     43\n",
       "bathrooms               100\n",
       "Price_Night               0\n",
       "Cleanliness_rating       98\n",
       "Accuracy_rating          98\n",
       "Communication_rating     98\n",
       "Location_rating          98\n",
       "Check-in_rating          98\n",
       "Value_rating             98\n",
       "amenities_count           0\n",
       "url                       0\n",
       "bedrooms                 82\n",
       "Unnamed: 19             987\n",
       "dtype: int64"
      ]
     },
     "execution_count": 61,
     "metadata": {},
     "output_type": "execute_result"
    }
   ],
   "source": [
    "listings.isnull().sum()"
   ]
  },
  {
   "cell_type": "code",
   "execution_count": 38,
   "metadata": {},
   "outputs": [],
   "source": [
    "listings = read_dataset()\n",
    "listings.drop(columns=['Unnamed: 19'], inplace=True)\n",
    "listings.reset_index(drop=True, inplace=True)"
   ]
  },
  {
   "cell_type": "code",
   "execution_count": 62,
   "metadata": {},
   "outputs": [],
   "source": [
    "listings = read_dataset()\n",
    "listings.dropna(subset=['Cleanliness_rating','Accuracy_rating','Communication_rating','Location_rating','Check-in_rating','Value_rating'], inplace=True)"
   ]
  },
  {
   "cell_type": "code",
   "execution_count": 63,
   "metadata": {},
   "outputs": [
    {
     "data": {
      "text/plain": [
       "ID                        0\n",
       "Category                  0\n",
       "Title                     0\n",
       "Description              60\n",
       "Amenities                 0\n",
       "Location                  0\n",
       "guests                   18\n",
       "beds                     34\n",
       "bathrooms                79\n",
       "Price_Night               0\n",
       "Cleanliness_rating        0\n",
       "Accuracy_rating           0\n",
       "Communication_rating      0\n",
       "Location_rating           0\n",
       "Check-in_rating           0\n",
       "Value_rating              0\n",
       "amenities_count           0\n",
       "url                       0\n",
       "bedrooms                 76\n",
       "Unnamed: 19             889\n",
       "dtype: int64"
      ]
     },
     "execution_count": 63,
     "metadata": {},
     "output_type": "execute_result"
    }
   ],
   "source": [
    "listings.isnull().sum()"
   ]
  },
  {
   "cell_type": "code",
   "execution_count": null,
   "metadata": {},
   "outputs": [],
   "source": [
    "listings[['Cleanliness_rating','Accuracy_rating','Communication_rating','Location_rating','Check-in_rating','Value_rating']]"
   ]
  },
  {
   "cell_type": "code",
   "execution_count": 39,
   "metadata": {},
   "outputs": [
    {
     "data": {
      "text/html": [
       "<div>\n",
       "<style scoped>\n",
       "    .dataframe tbody tr th:only-of-type {\n",
       "        vertical-align: middle;\n",
       "    }\n",
       "\n",
       "    .dataframe tbody tr th {\n",
       "        vertical-align: top;\n",
       "    }\n",
       "\n",
       "    .dataframe thead th {\n",
       "        text-align: right;\n",
       "    }\n",
       "</style>\n",
       "<table border=\"1\" class=\"dataframe\">\n",
       "  <thead>\n",
       "    <tr style=\"text-align: right;\">\n",
       "      <th></th>\n",
       "      <th>ID</th>\n",
       "      <th>Category</th>\n",
       "      <th>Title</th>\n",
       "      <th>Description</th>\n",
       "      <th>Amenities</th>\n",
       "      <th>Location</th>\n",
       "      <th>guests</th>\n",
       "      <th>beds</th>\n",
       "      <th>bathrooms</th>\n",
       "      <th>Price_Night</th>\n",
       "      <th>Cleanliness_rating</th>\n",
       "      <th>Accuracy_rating</th>\n",
       "      <th>Communication_rating</th>\n",
       "      <th>Location_rating</th>\n",
       "      <th>Check-in_rating</th>\n",
       "      <th>Value_rating</th>\n",
       "      <th>amenities_count</th>\n",
       "      <th>url</th>\n",
       "      <th>bedrooms</th>\n",
       "    </tr>\n",
       "  </thead>\n",
       "  <tbody>\n",
       "    <tr>\n",
       "      <th>0</th>\n",
       "      <td>1b4736a7-e73e-45bc-a9b5-d3e7fcf652fd</td>\n",
       "      <td>Treehouses</td>\n",
       "      <td>Az Alom Cabin - Treehouse Tree to Nature Cabin</td>\n",
       "      <td>['About this space', \"Come and spend a romanti...</td>\n",
       "      <td>['What this place offers', 'Bedroom and laundr...</td>\n",
       "      <td>Guyonvelle Grand Est France</td>\n",
       "      <td>3</td>\n",
       "      <td>3.0</td>\n",
       "      <td>0.0</td>\n",
       "      <td>92</td>\n",
       "      <td>4.3</td>\n",
       "      <td>4.7</td>\n",
       "      <td>4.6</td>\n",
       "      <td>4.9</td>\n",
       "      <td>4.7</td>\n",
       "      <td>4.5</td>\n",
       "      <td>8.0</td>\n",
       "      <td>https://www.airbnb.co.uk/rooms/27055498?adults...</td>\n",
       "      <td>1</td>\n",
       "    </tr>\n",
       "    <tr>\n",
       "      <th>1</th>\n",
       "      <td>d577bc30-2222-4bef-a35e-a9825642aec4</td>\n",
       "      <td>Treehouses</td>\n",
       "      <td>Cabane Entre Les Pins\\n🌲🏕️🌲</td>\n",
       "      <td>['About this space', 'Rustic cabin between the...</td>\n",
       "      <td>['What this place offers', 'Scenic views', 'Ga...</td>\n",
       "      <td>Duclair Normandie France</td>\n",
       "      <td>4</td>\n",
       "      <td>2.0</td>\n",
       "      <td>1.5</td>\n",
       "      <td>52</td>\n",
       "      <td>4.2</td>\n",
       "      <td>4.6</td>\n",
       "      <td>4.8</td>\n",
       "      <td>4.8</td>\n",
       "      <td>4.8</td>\n",
       "      <td>4.7</td>\n",
       "      <td>51.0</td>\n",
       "      <td>https://www.airbnb.co.uk/rooms/51427108?adults...</td>\n",
       "      <td>1</td>\n",
       "    </tr>\n",
       "    <tr>\n",
       "      <th>2</th>\n",
       "      <td>cfe479b9-c8f8-44af-9bc6-46ede9f14bb5</td>\n",
       "      <td>Treehouses</td>\n",
       "      <td>Treehouse near Paris Disney</td>\n",
       "      <td>['About this space', 'Charming cabin nestled i...</td>\n",
       "      <td>['What this place offers', 'Bathroom', 'Hair d...</td>\n",
       "      <td>Le Plessis-Feu-Aussoux Île-de-France France</td>\n",
       "      <td>4</td>\n",
       "      <td>3.0</td>\n",
       "      <td>1.0</td>\n",
       "      <td>143</td>\n",
       "      <td>5.0</td>\n",
       "      <td>4.9</td>\n",
       "      <td>5.0</td>\n",
       "      <td>4.7</td>\n",
       "      <td>5.0</td>\n",
       "      <td>4.7</td>\n",
       "      <td>32.0</td>\n",
       "      <td>https://www.airbnb.co.uk/rooms/935398?adults=1...</td>\n",
       "      <td>2</td>\n",
       "    </tr>\n",
       "    <tr>\n",
       "      <th>3</th>\n",
       "      <td>9033002f-5ff2-45df-af91-ef1594ac353f</td>\n",
       "      <td>Treehouses</td>\n",
       "      <td>luxourious Treehouse/lodge</td>\n",
       "      <td>['About this space', 'our tree house / lodge i...</td>\n",
       "      <td>['What this place offers', 'Bathroom', 'Cleani...</td>\n",
       "      <td>Rijen Noord-Brabant Netherlands</td>\n",
       "      <td>6</td>\n",
       "      <td>5.0</td>\n",
       "      <td>1.0</td>\n",
       "      <td>94</td>\n",
       "      <td>4.2</td>\n",
       "      <td>4.4</td>\n",
       "      <td>4.6</td>\n",
       "      <td>4.3</td>\n",
       "      <td>4.8</td>\n",
       "      <td>4.3</td>\n",
       "      <td>31.0</td>\n",
       "      <td>https://www.airbnb.co.uk/rooms/38786954?adults...</td>\n",
       "      <td>2</td>\n",
       "    </tr>\n",
       "    <tr>\n",
       "      <th>4</th>\n",
       "      <td>36dc1670-02ae-483b-9384-9261cc0f5abe</td>\n",
       "      <td>Treehouses</td>\n",
       "      <td>CABANE DES GIROLLES - IN THE TREES</td>\n",
       "      <td>['About this space', 'Above all, this is a bre...</td>\n",
       "      <td>['What this place offers', 'Bathroom', 'Hair d...</td>\n",
       "      <td>Perret Côtes-d'Armor France</td>\n",
       "      <td>3</td>\n",
       "      <td>2.0</td>\n",
       "      <td>1.0</td>\n",
       "      <td>104</td>\n",
       "      <td>4.5</td>\n",
       "      <td>4.7</td>\n",
       "      <td>4.8</td>\n",
       "      <td>4.8</td>\n",
       "      <td>4.8</td>\n",
       "      <td>4.4</td>\n",
       "      <td>10.0</td>\n",
       "      <td>https://www.airbnb.co.uk/rooms/23274113?adults...</td>\n",
       "      <td>1</td>\n",
       "    </tr>\n",
       "    <tr>\n",
       "      <th>...</th>\n",
       "      <td>...</td>\n",
       "      <td>...</td>\n",
       "      <td>...</td>\n",
       "      <td>...</td>\n",
       "      <td>...</td>\n",
       "      <td>...</td>\n",
       "      <td>...</td>\n",
       "      <td>...</td>\n",
       "      <td>...</td>\n",
       "      <td>...</td>\n",
       "      <td>...</td>\n",
       "      <td>...</td>\n",
       "      <td>...</td>\n",
       "      <td>...</td>\n",
       "      <td>...</td>\n",
       "      <td>...</td>\n",
       "      <td>...</td>\n",
       "      <td>...</td>\n",
       "      <td>...</td>\n",
       "    </tr>\n",
       "    <tr>\n",
       "      <th>700</th>\n",
       "      <td>cfbc88da-e88c-415a-b397-108d0948c4ba</td>\n",
       "      <td>Beachfront</td>\n",
       "      <td>Lancing Beach Apartment</td>\n",
       "      <td>['About this space', 'An apartment directly on...</td>\n",
       "      <td>['What this place offers', 'Bathroom', 'Hair d...</td>\n",
       "      <td>Lancing United Kingdom</td>\n",
       "      <td>4</td>\n",
       "      <td>2.0</td>\n",
       "      <td>1.5</td>\n",
       "      <td>240</td>\n",
       "      <td>4.9</td>\n",
       "      <td>5.0</td>\n",
       "      <td>5.0</td>\n",
       "      <td>5.0</td>\n",
       "      <td>4.9</td>\n",
       "      <td>4.8</td>\n",
       "      <td>33.0</td>\n",
       "      <td>https://www.airbnb.co.uk/rooms/12680472?adults...</td>\n",
       "      <td>2</td>\n",
       "    </tr>\n",
       "    <tr>\n",
       "      <th>701</th>\n",
       "      <td>4fea5054-f999-4c07-addc-67e4d893deab</td>\n",
       "      <td>Beachfront</td>\n",
       "      <td>Apartment</td>\n",
       "      <td>['About this space', 'Light roomy space with o...</td>\n",
       "      <td>['What this place offers', 'Bathroom', 'Hair d...</td>\n",
       "      <td>Brighton and Hove England United Kingdom</td>\n",
       "      <td>2</td>\n",
       "      <td>1.0</td>\n",
       "      <td>1.0</td>\n",
       "      <td>78</td>\n",
       "      <td>4.8</td>\n",
       "      <td>5.0</td>\n",
       "      <td>4.9</td>\n",
       "      <td>4.9</td>\n",
       "      <td>5.0</td>\n",
       "      <td>4.9</td>\n",
       "      <td>54.0</td>\n",
       "      <td>https://www.airbnb.co.uk/rooms/48565992?adults...</td>\n",
       "      <td>1</td>\n",
       "    </tr>\n",
       "    <tr>\n",
       "      <th>702</th>\n",
       "      <td>282118e2-049e-4d9f-b2f2-b47477881b07</td>\n",
       "      <td>Beachfront</td>\n",
       "      <td>Sea front flat with a stunning view!</td>\n",
       "      <td>['About this space', 'This specious two bedroo...</td>\n",
       "      <td>['What this place offers', 'Scenic views', 'Be...</td>\n",
       "      <td>East Sussex England United Kingdom</td>\n",
       "      <td>4</td>\n",
       "      <td>2.0</td>\n",
       "      <td>1.5</td>\n",
       "      <td>113</td>\n",
       "      <td>4.8</td>\n",
       "      <td>5.0</td>\n",
       "      <td>5.0</td>\n",
       "      <td>5.0</td>\n",
       "      <td>5.0</td>\n",
       "      <td>4.8</td>\n",
       "      <td>38.0</td>\n",
       "      <td>https://www.airbnb.co.uk/rooms/49742544?adults...</td>\n",
       "      <td>2</td>\n",
       "    </tr>\n",
       "    <tr>\n",
       "      <th>703</th>\n",
       "      <td>9ebf9cec-624e-480e-8704-dffa7cb1fe51</td>\n",
       "      <td>Beachfront</td>\n",
       "      <td>MP713 - Camber Sands Holiday Park - Sleeps 6 +...</td>\n",
       "      <td>['About this space', 'With all the modern amen...</td>\n",
       "      <td>['What this place offers', 'Bathroom', 'Hot wa...</td>\n",
       "      <td>Camber England United Kingdom</td>\n",
       "      <td>6</td>\n",
       "      <td>3.0</td>\n",
       "      <td>2.0</td>\n",
       "      <td>80</td>\n",
       "      <td>4.7</td>\n",
       "      <td>4.8</td>\n",
       "      <td>5.0</td>\n",
       "      <td>5.0</td>\n",
       "      <td>5.0</td>\n",
       "      <td>4.7</td>\n",
       "      <td>24.0</td>\n",
       "      <td>https://www.airbnb.co.uk/rooms/47777462?adults...</td>\n",
       "      <td>2</td>\n",
       "    </tr>\n",
       "    <tr>\n",
       "      <th>704</th>\n",
       "      <td>d2b06c80-c643-485d-a24b-15d0811a3166</td>\n",
       "      <td>Beachfront</td>\n",
       "      <td>Sea Scene's ,  Hayling Island</td>\n",
       "      <td>['About this space', 'Sea Scenes is a homely t...</td>\n",
       "      <td>['What this place offers', 'Bathroom', 'Hair d...</td>\n",
       "      <td>Hayling Island Hampshire United Kingdom</td>\n",
       "      <td>4</td>\n",
       "      <td>2.0</td>\n",
       "      <td>1.0</td>\n",
       "      <td>104</td>\n",
       "      <td>4.9</td>\n",
       "      <td>4.9</td>\n",
       "      <td>4.9</td>\n",
       "      <td>4.9</td>\n",
       "      <td>4.9</td>\n",
       "      <td>4.3</td>\n",
       "      <td>29.0</td>\n",
       "      <td>https://www.airbnb.co.uk/rooms/32377446?adults...</td>\n",
       "      <td>2</td>\n",
       "    </tr>\n",
       "  </tbody>\n",
       "</table>\n",
       "<p>705 rows × 19 columns</p>\n",
       "</div>"
      ],
      "text/plain": [
       "                                       ID    Category  \\\n",
       "0    1b4736a7-e73e-45bc-a9b5-d3e7fcf652fd  Treehouses   \n",
       "1    d577bc30-2222-4bef-a35e-a9825642aec4  Treehouses   \n",
       "2    cfe479b9-c8f8-44af-9bc6-46ede9f14bb5  Treehouses   \n",
       "3    9033002f-5ff2-45df-af91-ef1594ac353f  Treehouses   \n",
       "4    36dc1670-02ae-483b-9384-9261cc0f5abe  Treehouses   \n",
       "..                                    ...         ...   \n",
       "700  cfbc88da-e88c-415a-b397-108d0948c4ba  Beachfront   \n",
       "701  4fea5054-f999-4c07-addc-67e4d893deab  Beachfront   \n",
       "702  282118e2-049e-4d9f-b2f2-b47477881b07  Beachfront   \n",
       "703  9ebf9cec-624e-480e-8704-dffa7cb1fe51  Beachfront   \n",
       "704  d2b06c80-c643-485d-a24b-15d0811a3166  Beachfront   \n",
       "\n",
       "                                                 Title  \\\n",
       "0       Az Alom Cabin - Treehouse Tree to Nature Cabin   \n",
       "1                          Cabane Entre Les Pins\\n🌲🏕️🌲   \n",
       "2                          Treehouse near Paris Disney   \n",
       "3                           luxourious Treehouse/lodge   \n",
       "4                   CABANE DES GIROLLES - IN THE TREES   \n",
       "..                                                 ...   \n",
       "700                            Lancing Beach Apartment   \n",
       "701                                          Apartment   \n",
       "702               Sea front flat with a stunning view!   \n",
       "703  MP713 - Camber Sands Holiday Park - Sleeps 6 +...   \n",
       "704                      Sea Scene's ,  Hayling Island   \n",
       "\n",
       "                                           Description  \\\n",
       "0    ['About this space', \"Come and spend a romanti...   \n",
       "1    ['About this space', 'Rustic cabin between the...   \n",
       "2    ['About this space', 'Charming cabin nestled i...   \n",
       "3    ['About this space', 'our tree house / lodge i...   \n",
       "4    ['About this space', 'Above all, this is a bre...   \n",
       "..                                                 ...   \n",
       "700  ['About this space', 'An apartment directly on...   \n",
       "701  ['About this space', 'Light roomy space with o...   \n",
       "702  ['About this space', 'This specious two bedroo...   \n",
       "703  ['About this space', 'With all the modern amen...   \n",
       "704  ['About this space', 'Sea Scenes is a homely t...   \n",
       "\n",
       "                                             Amenities  \\\n",
       "0    ['What this place offers', 'Bedroom and laundr...   \n",
       "1    ['What this place offers', 'Scenic views', 'Ga...   \n",
       "2    ['What this place offers', 'Bathroom', 'Hair d...   \n",
       "3    ['What this place offers', 'Bathroom', 'Cleani...   \n",
       "4    ['What this place offers', 'Bathroom', 'Hair d...   \n",
       "..                                                 ...   \n",
       "700  ['What this place offers', 'Bathroom', 'Hair d...   \n",
       "701  ['What this place offers', 'Bathroom', 'Hair d...   \n",
       "702  ['What this place offers', 'Scenic views', 'Be...   \n",
       "703  ['What this place offers', 'Bathroom', 'Hot wa...   \n",
       "704  ['What this place offers', 'Bathroom', 'Hair d...   \n",
       "\n",
       "                                        Location guests  beds  bathrooms  \\\n",
       "0                    Guyonvelle Grand Est France      3   3.0        0.0   \n",
       "1                       Duclair Normandie France      4   2.0        1.5   \n",
       "2    Le Plessis-Feu-Aussoux Île-de-France France      4   3.0        1.0   \n",
       "3                Rijen Noord-Brabant Netherlands      6   5.0        1.0   \n",
       "4                    Perret Côtes-d'Armor France      3   2.0        1.0   \n",
       "..                                           ...    ...   ...        ...   \n",
       "700                       Lancing United Kingdom      4   2.0        1.5   \n",
       "701     Brighton and Hove England United Kingdom      2   1.0        1.0   \n",
       "702           East Sussex England United Kingdom      4   2.0        1.5   \n",
       "703                Camber England United Kingdom      6   3.0        2.0   \n",
       "704      Hayling Island Hampshire United Kingdom      4   2.0        1.0   \n",
       "\n",
       "     Price_Night  Cleanliness_rating  Accuracy_rating  Communication_rating  \\\n",
       "0             92                 4.3              4.7                   4.6   \n",
       "1             52                 4.2              4.6                   4.8   \n",
       "2            143                 5.0              4.9                   5.0   \n",
       "3             94                 4.2              4.4                   4.6   \n",
       "4            104                 4.5              4.7                   4.8   \n",
       "..           ...                 ...              ...                   ...   \n",
       "700          240                 4.9              5.0                   5.0   \n",
       "701           78                 4.8              5.0                   4.9   \n",
       "702          113                 4.8              5.0                   5.0   \n",
       "703           80                 4.7              4.8                   5.0   \n",
       "704          104                 4.9              4.9                   4.9   \n",
       "\n",
       "     Location_rating  Check-in_rating  Value_rating  amenities_count  \\\n",
       "0                4.9              4.7           4.5              8.0   \n",
       "1                4.8              4.8           4.7             51.0   \n",
       "2                4.7              5.0           4.7             32.0   \n",
       "3                4.3              4.8           4.3             31.0   \n",
       "4                4.8              4.8           4.4             10.0   \n",
       "..               ...              ...           ...              ...   \n",
       "700              5.0              4.9           4.8             33.0   \n",
       "701              4.9              5.0           4.9             54.0   \n",
       "702              5.0              5.0           4.8             38.0   \n",
       "703              5.0              5.0           4.7             24.0   \n",
       "704              4.9              4.9           4.3             29.0   \n",
       "\n",
       "                                                   url bedrooms  \n",
       "0    https://www.airbnb.co.uk/rooms/27055498?adults...        1  \n",
       "1    https://www.airbnb.co.uk/rooms/51427108?adults...        1  \n",
       "2    https://www.airbnb.co.uk/rooms/935398?adults=1...        2  \n",
       "3    https://www.airbnb.co.uk/rooms/38786954?adults...        2  \n",
       "4    https://www.airbnb.co.uk/rooms/23274113?adults...        1  \n",
       "..                                                 ...      ...  \n",
       "700  https://www.airbnb.co.uk/rooms/12680472?adults...        2  \n",
       "701  https://www.airbnb.co.uk/rooms/48565992?adults...        1  \n",
       "702  https://www.airbnb.co.uk/rooms/49742544?adults...        2  \n",
       "703  https://www.airbnb.co.uk/rooms/47777462?adults...        2  \n",
       "704  https://www.airbnb.co.uk/rooms/32377446?adults...        2  \n",
       "\n",
       "[705 rows x 19 columns]"
      ]
     },
     "execution_count": 39,
     "metadata": {},
     "output_type": "execute_result"
    }
   ],
   "source": [
    "listings"
   ]
  },
  {
   "cell_type": "code",
   "execution_count": 40,
   "metadata": {},
   "outputs": [
    {
     "name": "stdout",
     "output_type": "stream",
     "text": [
      "<class 'pandas.core.frame.DataFrame'>\n",
      "RangeIndex: 705 entries, 0 to 704\n",
      "Data columns (total 19 columns):\n",
      " #   Column                Non-Null Count  Dtype  \n",
      "---  ------                --------------  -----  \n",
      " 0   ID                    705 non-null    object \n",
      " 1   Category              705 non-null    object \n",
      " 2   Title                 705 non-null    object \n",
      " 3   Description           705 non-null    object \n",
      " 4   Amenities             705 non-null    object \n",
      " 5   Location              705 non-null    object \n",
      " 6   guests                705 non-null    object \n",
      " 7   beds                  705 non-null    float64\n",
      " 8   bathrooms             705 non-null    float64\n",
      " 9   Price_Night           705 non-null    int64  \n",
      " 10  Cleanliness_rating    705 non-null    float64\n",
      " 11  Accuracy_rating       705 non-null    float64\n",
      " 12  Communication_rating  705 non-null    float64\n",
      " 13  Location_rating       705 non-null    float64\n",
      " 14  Check-in_rating       705 non-null    float64\n",
      " 15  Value_rating          705 non-null    float64\n",
      " 16  amenities_count       705 non-null    float64\n",
      " 17  url                   705 non-null    object \n",
      " 18  bedrooms              705 non-null    object \n",
      "dtypes: float64(9), int64(1), object(9)\n",
      "memory usage: 104.8+ KB\n"
     ]
    }
   ],
   "source": [
    "listings.info()"
   ]
  }
 ],
 "metadata": {
  "kernelspec": {
   "display_name": "Python 3",
   "language": "python",
   "name": "python3"
  },
  "language_info": {
   "codemirror_mode": {
    "name": "ipython",
    "version": 3
   },
   "file_extension": ".py",
   "mimetype": "text/x-python",
   "name": "python",
   "nbconvert_exporter": "python",
   "pygments_lexer": "ipython3",
   "version": "3.10.2"
  },
  "orig_nbformat": 4,
  "vscode": {
   "interpreter": {
    "hash": "aee8b7b246df8f9039afb4144a1f6fd8d2ca17a180786b69acc140d282b71a49"
   }
  }
 },
 "nbformat": 4,
 "nbformat_minor": 2
}
